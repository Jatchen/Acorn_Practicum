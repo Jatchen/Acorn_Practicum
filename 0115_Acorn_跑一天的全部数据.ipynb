{
  "nbformat": 4,
  "nbformat_minor": 0,
  "metadata": {
    "colab": {
      "provenance": [],
      "mount_file_id": "1S-vpAfOcS2dr6cqc_0QzSGPsGshbbJs0",
      "authorship_tag": "ABX9TyMeesxhihncdsAb2hkOTtsF",
      "include_colab_link": true
    },
    "kernelspec": {
      "name": "python3",
      "display_name": "Python 3"
    },
    "language_info": {
      "name": "python"
    }
  },
  "cells": [
    {
      "cell_type": "markdown",
      "metadata": {
        "id": "view-in-github",
        "colab_type": "text"
      },
      "source": [
        "<a href=\"https://colab.research.google.com/github/Jatchen/Acorn_Practicum/blob/main/0115_Acorn_%E8%B7%91%E4%B8%80%E5%A4%A9%E7%9A%84%E5%85%A8%E9%83%A8%E6%95%B0%E6%8D%AE.ipynb\" target=\"_parent\"><img src=\"https://colab.research.google.com/assets/colab-badge.svg\" alt=\"Open In Colab\"/></a>"
      ]
    },
    {
      "cell_type": "code",
      "execution_count": 1,
      "metadata": {
        "id": "feYKXu3nGtzZ"
      },
      "outputs": [],
      "source": [
        "from google.colab import drive\n",
        "import pandas as pd\n",
        "import numpy as np\n",
        "import ast  # Import the ast module for safe literal evaluation\n",
        "import re  # Import the 're' module"
      ]
    },
    {
      "cell_type": "code",
      "source": [
        "original_2_df = pd.read_csv(\"/content/drive/MyDrive/result_2_df.csv\")\n",
        "# 用于跑改变input进行对比\n",
        "result_2_df = original_2_df.head(int(len(original_2_df) * 0.4))"
      ],
      "metadata": {
        "id": "edyCoimSHSh2"
      },
      "execution_count": 36,
      "outputs": []
    },
    {
      "cell_type": "code",
      "source": [
        "pip install pulp"
      ],
      "metadata": {
        "colab": {
          "base_uri": "https://localhost:8080/"
        },
        "id": "SDY-yv0yH43G",
        "outputId": "cc9c28bc-18f6-4f99-934e-3e7f1cee1bcf"
      },
      "execution_count": 26,
      "outputs": [
        {
          "output_type": "stream",
          "name": "stdout",
          "text": [
            "Requirement already satisfied: pulp in /usr/local/lib/python3.10/dist-packages (2.8.0)\n"
          ]
        }
      ]
    },
    {
      "cell_type": "code",
      "source": [
        "import pulp"
      ],
      "metadata": {
        "id": "mqrS7cULHsoA"
      },
      "execution_count": 27,
      "outputs": []
    },
    {
      "cell_type": "code",
      "source": [
        "# Parameters\n",
        "p = 3  # Minimum number of potential buyers for each property\n",
        "q = 40  # Maximum number of times a buyer is listed in the property recommendations\n",
        "\n",
        "# Clear previous variables by creating a new problem object\n",
        "prob = pulp.LpProblem(\"PropertyAssignmentProblem\", pulp.LpMaximize)"
      ],
      "metadata": {
        "id": "8VpJdZN7HX-m"
      },
      "execution_count": 37,
      "outputs": []
    },
    {
      "cell_type": "code",
      "source": [
        "# Decision variables\n",
        "x = pulp.LpVariable.dicts(\"x\", ((i, j) for i in result_2_df.property_id.unique() for j in result_2_df.customer_id.unique()), cat='Binary')\n",
        "\n",
        "# Objective function\n",
        "prob += pulp.lpSum([result_2_df.loc[(result_2_df.property_id == i) & (result_2_df.customer_id == j), 'rating'].values[0] * x[(i, j)]\n",
        "                    if not result_2_df.loc[(result_2_df.property_id == i) & (result_2_df.customer_id == j), 'rating'].empty\n",
        "                    else 0\n",
        "                    for i in result_2_df.property_id.unique() for j in result_2_df.customer_id.unique()])\n"
      ],
      "metadata": {
        "id": "iC3FlKOyIAQ-"
      },
      "execution_count": 38,
      "outputs": []
    },
    {
      "cell_type": "code",
      "source": [
        "# Constraints\n",
        "for i in result_2_df.property_id.unique():\n",
        "    prob += pulp.lpSum([x[(i, j)] for j in result_2_df.customer_id.unique()]) >= p\n",
        "\n",
        "for j in result_2_df.customer_id.unique():\n",
        "    prob += pulp.lpSum([x[(i, j)] for i in result_2_df.property_id.unique()]) <= q\n",
        "\n",
        "# Decision variable x: relax the binary constraint - make it a category integer: Add constraints x >= 0, x <= 1\n",
        "# Or even Decision variable x:  relax binary constraint more and let x be a floating point number: Add constraints x>=0, x <=1\n",
        "# how to see if sucess or not: Success if:  faster AND the xij output variables are all 0 or 1;Failure:  xij = 0.75 or some other nonbinary number"
      ],
      "metadata": {
        "id": "KD5W4AULIQFh"
      },
      "execution_count": 30,
      "outputs": []
    },
    {
      "cell_type": "code",
      "source": [
        "# Solve the problem\n",
        "prob.solve()\n",
        "\n",
        "# Print the status of the solution\n",
        "print(\"Status:\", pulp.LpStatus[prob.status])\n",
        "\n",
        "# Print the total utility\n",
        "print(\"Total Utility of Assignments = \", pulp.value(prob.objective))"
      ],
      "metadata": {
        "colab": {
          "base_uri": "https://localhost:8080/"
        },
        "id": "feZh4ugvIohO",
        "outputId": "40949e10-1b59-480f-c62c-997be2b442d8"
      },
      "execution_count": 31,
      "outputs": [
        {
          "output_type": "stream",
          "name": "stdout",
          "text": [
            "Status: Infeasible\n",
            "Total Utility of Assignments =  2207.723899036646\n"
          ]
        }
      ]
    },
    {
      "cell_type": "code",
      "source": [
        "# 新的数据导出方式的尝试\n",
        "# Create a list to store the data\n",
        "new_data = []\n",
        "\n",
        "# Extract information from all variables\n",
        "for v in prob.variables():\n",
        "    buyer_id, property_id = map(int, re.findall(r'\\d+', v.name))\n",
        "    xij_value = v.varValue\n",
        "    new_data.append((property_id, buyer_id, xij_value))\n",
        "\n",
        "# Create a new DataFrame\n",
        "new_df = pd.DataFrame(new_data, columns=['property_id', 'customer_id', 'Xij_value'])\n",
        "\n",
        "# 交换 customer_id 和 property_id 列\n",
        "new_df['customer_id'], new_df['property_id'] = new_df['property_id'], new_df['customer_id']\n",
        "\n",
        "# merge rating to result\n",
        "# 确保 'property_id' 和 'customer_id' 列在两个 DataFrame 中都是相同的数据类型\n",
        "new_df['property_id'] = new_df['property_id'].astype('int64')\n",
        "new_df['customer_id'] = new_df['customer_id'].astype('int64')\n",
        "result_2_df['property_id'] = result_2_df['property_id'].astype('int64')\n",
        "result_2_df['customer_id'] = result_2_df['customer_id'].astype('int64')\n",
        "\n",
        "merged_df = pd.merge(new_df, original_2_df, on=['property_id', 'customer_id'], how='inner')\n",
        "print(merged_df)"
      ],
      "metadata": {
        "colab": {
          "base_uri": "https://localhost:8080/"
        },
        "id": "BkYLa_SZIyj8",
        "outputId": "ce527e05-faa4-497f-b6f2-60c7b0f09bb6"
      },
      "execution_count": 32,
      "outputs": [
        {
          "output_type": "stream",
          "name": "stdout",
          "text": [
            "       property_id  customer_id  Xij_value  property_profile_id    rating\n",
            "0           100033      2330137        0.0                   15  1.552531\n",
            "1           100033      3384124        1.0                   15  1.250265\n",
            "2           100033      3384420        0.0                   15  1.198251\n",
            "3           100033      3384504        0.0                   15  1.132391\n",
            "4           100033      3384648        0.0                   15  1.231637\n",
            "...            ...          ...        ...                  ...       ...\n",
            "17327        99980       463685        0.0                   15  0.976388\n",
            "17328        99980      4983095        0.0                   15  1.622355\n",
            "17329        99980      6655588        0.0                   15  1.148170\n",
            "17330        99980      7217388        0.0                   15  1.042675\n",
            "17331        99980      7252559        0.0                   15  1.198251\n",
            "\n",
            "[17332 rows x 5 columns]\n"
          ]
        },
        {
          "output_type": "stream",
          "name": "stderr",
          "text": [
            "<ipython-input-32-68c55bd89fa9>:21: SettingWithCopyWarning: \n",
            "A value is trying to be set on a copy of a slice from a DataFrame.\n",
            "Try using .loc[row_indexer,col_indexer] = value instead\n",
            "\n",
            "See the caveats in the documentation: https://pandas.pydata.org/pandas-docs/stable/user_guide/indexing.html#returning-a-view-versus-a-copy\n",
            "  result_2_df['property_id'] = result_2_df['property_id'].astype('int64')\n",
            "<ipython-input-32-68c55bd89fa9>:22: SettingWithCopyWarning: \n",
            "A value is trying to be set on a copy of a slice from a DataFrame.\n",
            "Try using .loc[row_indexer,col_indexer] = value instead\n",
            "\n",
            "See the caveats in the documentation: https://pandas.pydata.org/pandas-docs/stable/user_guide/indexing.html#returning-a-view-versus-a-copy\n",
            "  result_2_df['customer_id'] = result_2_df['customer_id'].astype('int64')\n"
          ]
        }
      ]
    },
    {
      "cell_type": "code",
      "source": [
        "# 直接得到总分\n",
        "total_rating = merged_df[merged_df['Xij_value'] == 1]['rating'].sum()\n",
        "print(total_rating)"
      ],
      "metadata": {
        "colab": {
          "base_uri": "https://localhost:8080/"
        },
        "id": "BsZoIxCh9Q5r",
        "outputId": "800791d7-9d8a-490e-f9da-bc571ac78b14"
      },
      "execution_count": 33,
      "outputs": [
        {
          "output_type": "stream",
          "name": "stdout",
          "text": [
            "2231.6573081314564\n"
          ]
        }
      ]
    },
    {
      "cell_type": "code",
      "source": [
        "#检验是否实现了小于40的分配\n",
        "import pandas as pd\n",
        "\n",
        "# 读取数据\n",
        "df = merged_df\n",
        "\n",
        "# 过滤 Xij=1 的数据\n",
        "filtered_df = df[df['Xij_value'] == 1]\n",
        "\n",
        "# 统计每个 customer_id 对应的不同 property_id 数量\n",
        "result = filtered_df.groupby('customer_id')['property_id'].nunique().reset_index()\n",
        "\n",
        "# 打印结果\n",
        "print(result)\n"
      ],
      "metadata": {
        "colab": {
          "base_uri": "https://localhost:8080/"
        },
        "id": "6K1OA3jUN9DS",
        "outputId": "6adceead-b2de-4783-c969-0aacc6c2683a"
      },
      "execution_count": 35,
      "outputs": [
        {
          "output_type": "stream",
          "name": "stdout",
          "text": [
            "    customer_id  property_id\n",
            "0        434187           15\n",
            "1        438060           34\n",
            "2        440738           24\n",
            "3        445168           25\n",
            "4        446153            1\n",
            "..          ...          ...\n",
            "68      7117168           36\n",
            "69      7148259           27\n",
            "70      7252559           46\n",
            "71      7626260           38\n",
            "72      7683672            1\n",
            "\n",
            "[73 rows x 2 columns]\n"
          ]
        }
      ]
    },
    {
      "cell_type": "code",
      "source": [
        "#下载结果\n",
        "merged_df.to_csv('merged_2_df.csv', index=False)"
      ],
      "metadata": {
        "id": "drlzqfieJAw7"
      },
      "execution_count": null,
      "outputs": []
    },
    {
      "cell_type": "code",
      "source": [
        "from google.colab import files"
      ],
      "metadata": {
        "id": "IQuSKPIvNfvU"
      },
      "execution_count": null,
      "outputs": []
    },
    {
      "cell_type": "code",
      "source": [
        "files.download('merged_2_df.csv')"
      ],
      "metadata": {
        "colab": {
          "base_uri": "https://localhost:8080/",
          "height": 17
        },
        "id": "UhC9Wlz0Ncu0",
        "outputId": "b8a2c0c6-b7b5-4a0c-adae-49be2e159c62"
      },
      "execution_count": null,
      "outputs": [
        {
          "output_type": "display_data",
          "data": {
            "text/plain": [
              "<IPython.core.display.Javascript object>"
            ],
            "application/javascript": [
              "\n",
              "    async function download(id, filename, size) {\n",
              "      if (!google.colab.kernel.accessAllowed) {\n",
              "        return;\n",
              "      }\n",
              "      const div = document.createElement('div');\n",
              "      const label = document.createElement('label');\n",
              "      label.textContent = `Downloading \"${filename}\": `;\n",
              "      div.appendChild(label);\n",
              "      const progress = document.createElement('progress');\n",
              "      progress.max = size;\n",
              "      div.appendChild(progress);\n",
              "      document.body.appendChild(div);\n",
              "\n",
              "      const buffers = [];\n",
              "      let downloaded = 0;\n",
              "\n",
              "      const channel = await google.colab.kernel.comms.open(id);\n",
              "      // Send a message to notify the kernel that we're ready.\n",
              "      channel.send({})\n",
              "\n",
              "      for await (const message of channel.messages) {\n",
              "        // Send a message to notify the kernel that we're ready.\n",
              "        channel.send({})\n",
              "        if (message.buffers) {\n",
              "          for (const buffer of message.buffers) {\n",
              "            buffers.push(buffer);\n",
              "            downloaded += buffer.byteLength;\n",
              "            progress.value = downloaded;\n",
              "          }\n",
              "        }\n",
              "      }\n",
              "      const blob = new Blob(buffers, {type: 'application/binary'});\n",
              "      const a = document.createElement('a');\n",
              "      a.href = window.URL.createObjectURL(blob);\n",
              "      a.download = filename;\n",
              "      div.appendChild(a);\n",
              "      a.click();\n",
              "      div.remove();\n",
              "    }\n",
              "  "
            ]
          },
          "metadata": {}
        },
        {
          "output_type": "display_data",
          "data": {
            "text/plain": [
              "<IPython.core.display.Javascript object>"
            ],
            "application/javascript": [
              "download(\"download_7be53449-985f-4518-b149-428f4afbdf9c\", \"merged_2_df.csv\", 2200485)"
            ]
          },
          "metadata": {}
        }
      ]
    },
    {
      "cell_type": "code",
      "source": [
        "# 跑不同的input data并且和random进行对比"
      ],
      "metadata": {
        "id": "NNCfGn5q55kD"
      },
      "execution_count": null,
      "outputs": []
    },
    {
      "cell_type": "code",
      "source": [],
      "metadata": {
        "id": "ARH3PdKN6AEx"
      },
      "execution_count": null,
      "outputs": []
    }
  ]
}