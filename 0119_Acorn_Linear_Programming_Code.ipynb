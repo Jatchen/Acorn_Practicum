{
  "nbformat": 4,
  "nbformat_minor": 0,
  "metadata": {
    "colab": {
      "provenance": [],
      "authorship_tag": "ABX9TyM9Is+TSNYQdXjKyeivRCJr",
      "include_colab_link": true
    },
    "kernelspec": {
      "name": "python3",
      "display_name": "Python 3"
    },
    "language_info": {
      "name": "python"
    }
  },
  "cells": [
    {
      "cell_type": "markdown",
      "metadata": {
        "id": "view-in-github",
        "colab_type": "text"
      },
      "source": [
        "<a href=\"https://colab.research.google.com/github/Jatchen/Acorn_Practicum/blob/main/0119_Acorn_Linear_Programming_Code.ipynb\" target=\"_parent\"><img src=\"https://colab.research.google.com/assets/colab-badge.svg\" alt=\"Open In Colab\"/></a>"
      ]
    },
    {
      "cell_type": "code",
      "execution_count": null,
      "metadata": {
        "id": "Cf33gqyh1LPa"
      },
      "outputs": [],
      "source": [
        "from google.colab import drive\n",
        "import pandas as pd\n",
        "import numpy as np\n",
        "import ast  # Import the ast module for safe literal evaluation\n",
        "import re  # Import the 're' module\n",
        "import pulp # linear programming solver"
      ]
    },
    {
      "cell_type": "code",
      "source": [
        "# read the data (whose format is different from orginal data Acorn provided )\n",
        "result_2_df = pd.read_csv(\"/content/drive/MyDrive/result_2_df.csv\")"
      ],
      "metadata": {
        "id": "e5N_9jJK1S7s"
      },
      "execution_count": null,
      "outputs": []
    },
    {
      "cell_type": "code",
      "source": [
        "# Parameters\n",
        "q = 40  # Maximum number of times a buyer is listed in the property recommendations\n",
        "\n",
        "# Clear previous variables by creating a new problem object\n",
        "prob = pulp.LpProblem(\"PropertyAssignmentProblem\", pulp.LpMaximize)"
      ],
      "metadata": {
        "id": "K-cy5-wZ1j8r"
      },
      "execution_count": null,
      "outputs": []
    },
    {
      "cell_type": "code",
      "source": [
        "# Decision variables\n",
        "x = pulp.LpVariable.dicts(\"x\", ((i, j) for i in result_2_df.property_id.unique() for j in result_2_df.customer_id.unique()), cat='Binary')\n",
        "\n",
        "# Objective function\n",
        "prob += pulp.lpSum([result_2_df.loc[(result_2_df.property_id == i) & (result_2_df.customer_id == j), 'rating'].values[0] * x[(i, j)]\n",
        "                    if not result_2_df.loc[(result_2_df.property_id == i) & (result_2_df.customer_id == j), 'rating'].empty\n",
        "                    else 0\n",
        "                    for i in result_2_df.property_id.unique() for j in result_2_df.customer_id.unique()])"
      ],
      "metadata": {
        "id": "LmBTfnEu1uGD"
      },
      "execution_count": null,
      "outputs": []
    },
    {
      "cell_type": "code",
      "source": [
        "# Constraints\n",
        "for j in result_2_df.customer_id.unique():\n",
        "    prob += pulp.lpSum([x[(i, j)] for i in result_2_df.property_id.unique()]) <= q"
      ],
      "metadata": {
        "id": "--iauhBl1wbo"
      },
      "execution_count": null,
      "outputs": []
    },
    {
      "cell_type": "code",
      "source": [
        "# Solve the problem\n",
        "prob.solve()\n",
        "\n",
        "# Print the status of the solution\n",
        "print(\"Status:\", pulp.LpStatus[prob.status])\n",
        "\n",
        "# Print the total utility\n",
        "print(\"Total Utility of Assignments = \", pulp.value(prob.objective))"
      ],
      "metadata": {
        "id": "_GbJ-tM_1yQb"
      },
      "execution_count": null,
      "outputs": []
    },
    {
      "cell_type": "code",
      "source": [
        "# print the result\n",
        "\n",
        "# Create a list to store the data\n",
        "new_data = []\n",
        "\n",
        "# Extract information from all variables\n",
        "for v in prob.variables():\n",
        "    buyer_id, property_id = map(int, re.findall(r'\\d+', v.name))\n",
        "    xij_value = v.varValue\n",
        "    new_data.append((property_id, buyer_id, xij_value))\n",
        "\n",
        "# Create a new DataFrame\n",
        "new_df = pd.DataFrame(new_data, columns=['property_id', 'customer_id', 'Xij_value'])\n",
        "\n",
        "# 交换 customer_id 和 property_id 列\n",
        "new_df['customer_id'], new_df['property_id'] = new_df['property_id'], new_df['customer_id']\n",
        "\n",
        "# merge rating to result\n",
        "# 确保 'property_id' 和 'customer_id' 列在两个 DataFrame 中都是相同的数据类型\n",
        "new_df['property_id'] = new_df['property_id'].astype('int64')\n",
        "new_df['customer_id'] = new_df['customer_id'].astype('int64')\n",
        "result_2_df['property_id'] = result_2_df['property_id'].astype('int64')\n",
        "result_2_df['customer_id'] = result_2_df['customer_id'].astype('int64')\n",
        "\n",
        "merged_df = pd.merge(new_df, original_2_df, on=['property_id', 'customer_id'], how='inner')\n",
        "print(merged_df)"
      ],
      "metadata": {
        "id": "UzkYuhMv10IL"
      },
      "execution_count": null,
      "outputs": []
    },
    {
      "cell_type": "code",
      "source": [
        "# to test if meet  property limitation\n",
        "\n",
        "# filter succseful assign out\n",
        "filtered_df = merged_df[merged_df['Xij_value'] == 1]\n",
        "\n",
        "# Count each customer_ Different properties corresponding to IDs_ Number of IDs\n",
        "result = filtered_df.groupby('customer_id')['property_id'].nunique().reset_index()\n",
        "\n",
        "# rpint the result\n",
        "print(result)"
      ],
      "metadata": {
        "id": "ekqRElb917ZB"
      },
      "execution_count": null,
      "outputs": []
    }
  ]
}